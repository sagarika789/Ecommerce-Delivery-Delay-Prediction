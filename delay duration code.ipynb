{
 "cells": [
  {
   "cell_type": "code",
   "execution_count": 1,
   "id": "aec3bae3-2f3e-48b3-afb2-807a8db037ef",
   "metadata": {},
   "outputs": [
    {
     "ename": "ModuleNotFoundError",
     "evalue": "No module named 'lightgbm'",
     "output_type": "error",
     "traceback": [
      "\u001b[1;31m---------------------------------------------------------------------------\u001b[0m",
      "\u001b[1;31mModuleNotFoundError\u001b[0m                       Traceback (most recent call last)",
      "Cell \u001b[1;32mIn[1], line 7\u001b[0m\n\u001b[0;32m      5\u001b[0m \u001b[38;5;28;01mfrom\u001b[39;00m\u001b[38;5;250m \u001b[39m\u001b[38;5;21;01mdatetime\u001b[39;00m\u001b[38;5;250m \u001b[39m\u001b[38;5;28;01mimport\u001b[39;00m datetime\n\u001b[0;32m      6\u001b[0m \u001b[38;5;28;01mfrom\u001b[39;00m\u001b[38;5;250m \u001b[39m\u001b[38;5;21;01msklearn\u001b[39;00m\u001b[38;5;21;01m.\u001b[39;00m\u001b[38;5;21;01mpreprocessing\u001b[39;00m\u001b[38;5;250m \u001b[39m\u001b[38;5;28;01mimport\u001b[39;00m LabelEncoder\n\u001b[1;32m----> 7\u001b[0m \u001b[38;5;28;01mimport\u001b[39;00m\u001b[38;5;250m \u001b[39m\u001b[38;5;21;01mlightgbm\u001b[39;00m\u001b[38;5;250m \u001b[39m\u001b[38;5;28;01mas\u001b[39;00m\u001b[38;5;250m \u001b[39m\u001b[38;5;21;01mlgb\u001b[39;00m\n\u001b[0;32m      8\u001b[0m \u001b[38;5;28;01mfrom\u001b[39;00m\u001b[38;5;250m \u001b[39m\u001b[38;5;21;01msklearn\u001b[39;00m\u001b[38;5;21;01m.\u001b[39;00m\u001b[38;5;21;01mmetrics\u001b[39;00m\u001b[38;5;250m \u001b[39m\u001b[38;5;28;01mimport\u001b[39;00m accuracy_score, classification_report\n\u001b[0;32m      9\u001b[0m \u001b[38;5;28;01mfrom\u001b[39;00m\u001b[38;5;250m \u001b[39m\u001b[38;5;21;01msklearn\u001b[39;00m\u001b[38;5;21;01m.\u001b[39;00m\u001b[38;5;21;01mmodel_selection\u001b[39;00m\u001b[38;5;250m \u001b[39m\u001b[38;5;28;01mimport\u001b[39;00m train_test_split\n",
      "\u001b[1;31mModuleNotFoundError\u001b[0m: No module named 'lightgbm'"
     ]
    }
   ],
   "source": [
    "import pandas as pd\n",
    "from sklearn.cluster import KMeans\n",
    "import matplotlib.pyplot as plt\n",
    "from sklearn.preprocessing import OneHotEncoder\n",
    "from datetime import datetime\n",
    "from sklearn.preprocessing import LabelEncoder\n",
    "import lightgbm as lgb\n",
    "from sklearn.metrics import accuracy_score, classification_report\n",
    "from sklearn.model_selection import train_test_split"
   ]
  },
  {
   "cell_type": "code",
   "execution_count": null,
   "id": "bb601ea8-25c7-42d0-ae8f-2e33d27163ac",
   "metadata": {},
   "outputs": [],
   "source": [
    "df = pd.read_csv('amazon delivery.csv')"
   ]
  },
  {
   "cell_type": "code",
   "execution_count": null,
   "id": "4af337b6-7cf4-4409-bde0-341dc9befdae",
   "metadata": {},
   "outputs": [],
   "source": [
    "# Feature Engineering: Extract useful time-based features\n",
    "df['order_datetime'] = pd.to_datetime(df['Order_Date'] + ' ' + df['Order_Time'])\n",
    "df['pickup_datetime'] = pd.to_datetime(df['Pickup_Time'])\n",
    "\n",
    "df['order_hour'] = df['order_datetime'].dt.hour\n",
    "df['order_dayofweek'] = df['order_datetime'].dt.dayofweek\n",
    "df['order_weekend'] = df['order_dayofweek'].isin([5, 6]).astype(int)\n",
    "\n",
    "df['pickup_hour'] = df['pickup_datetime'].dt.hour\n",
    "df['pickup_dayofweek'] = df['pickup_datetime'].dt.dayofweek"
   ]
  },
  {
   "cell_type": "code",
   "execution_count": null,
   "id": "9fcffd7b-b763-4c0b-9467-eb05d76c786a",
   "metadata": {},
   "outputs": [],
   "source": [
    "# Compute time difference features\n",
    "df['order_to_pickup_mins'] = (df['pickup_datetime'] - df['order_datetime']).dt.total_seconds() / 60\n",
    "\n",
    "# Drop original datetime columns\n",
    "df.drop(['Order_Date', 'Order_Time', 'Pickup_Time', 'order_datetime', 'pickup_datetime'], axis=1, inplace=True)"
   ]
  },
  {
   "cell_type": "code",
   "execution_count": null,
   "id": "da2bc3ef-ea51-44bc-9c31-17ce696432dc",
   "metadata": {},
   "outputs": [],
   "source": [
    "# One-hot encoding for categorical variables\n",
    "categorical_features = ['Traffic', 'Weather', 'Vehicle', 'Area']\n",
    "df = pd.get_dummies(df, columns=categorical_features, drop_first=True)"
   ]
  },
  {
   "cell_type": "code",
   "execution_count": null,
   "id": "f37b114c-80f8-4d75-9ae6-9894f24f1b98",
   "metadata": {},
   "outputs": [],
   "source": [
    "# Encode categorical variable 'Category' using Label Encoding\n",
    "le = LabelEncoder()\n",
    "df[\"Category\"] = le.fit_transform(df[\"Category\"])"
   ]
  },
  {
   "cell_type": "code",
   "execution_count": null,
   "id": "d5344dac-cd50-4bcd-b8e0-cfcc71c6b538",
   "metadata": {},
   "outputs": [],
   "source": [
    "from haversine import haversine\n",
    "\n",
    "def calculate_distance(row):\n",
    "    return haversine((row[\"Store_Latitude\"], row[\"Store_Longitude\"]),\n",
    "                     (row[\"Drop_Latitude\"], row[\"Drop_Longitude\"]))"
   ]
  },
  {
   "cell_type": "code",
   "execution_count": null,
   "id": "f4650d6f-44f5-4f5e-82be-cb8e9c51a3df",
   "metadata": {},
   "outputs": [],
   "source": [
    "df.columns = df.columns.str.strip()\n",
    "df[\"distance_km\"] = df.apply(calculate_distance, axis=1)\n",
    "df[\"distance_traffic\"] = df[\"distance_km\"] * df[\"Traffic_Jam\"]\n",
    "df[\"vehicle_distance\"] = df[\"distance_km\"] * df[\"Vehicle_van\"]"
   ]
  },
  {
   "cell_type": "code",
   "execution_count": null,
   "id": "059711e4-c16d-4b6d-9e72-a2a29ff57c3c",
   "metadata": {},
   "outputs": [],
   "source": [
    "print(df.info)"
   ]
  },
  {
   "cell_type": "code",
   "execution_count": null,
   "id": "ec6af3e7-3330-46a1-b648-83d0516c29d8",
   "metadata": {},
   "outputs": [],
   "source": [
    "df.columns"
   ]
  },
  {
   "cell_type": "code",
   "execution_count": null,
   "id": "5a247fff-7df1-48bc-8782-65671402c7a3",
   "metadata": {},
   "outputs": [],
   "source": [
    "from sklearn.cluster import KMeans\n",
    "import numpy as np\n",
    "\n",
    "# Use K-Means to cluster delivery durations\n",
    "num_clusters = 2  # We assume two groups: on-time vs. late\n",
    "kmeans = KMeans(n_clusters=num_clusters, random_state=42)\n",
    "df[\"delay_cluster\"] = kmeans.fit_predict(df[[\"Delivery_Time\"]])\n",
    "\n",
    "# Assign labels based on mean delay\n",
    "cluster_means = df.groupby(\"delay_cluster\")[\"Delivery_Time\"].mean()\n",
    "late_cluster = cluster_means.idxmax()  # Cluster with the highest mean delay\n",
    "df[\"is_late\"] = (df[\"delay_cluster\"] == late_cluster).astype(int)\n",
    "\n",
    "print(df[\"is_late\"].value_counts())  # Check distribution of on-time vs. late\n",
    "\n"
   ]
  },
  {
   "cell_type": "code",
   "execution_count": null,
   "id": "55c83d3d-e9b2-486e-8560-6eb0f750f19f",
   "metadata": {},
   "outputs": [],
   "source": [
    "df_original = df.copy()\n",
    "# Define features & target\n",
    "X = df.drop(columns=[\"Delivery_Time\", \"delay_cluster\", \"is_late\"], inplace=False)  # Exclude target variables\n",
    "y = df[\"is_late\"]  # Target: 0 (on-time) or 1 (late)\n",
    "# Train-test split\n",
    "X_train, X_test, y_train, y_test = train_test_split(X, y, test_size=0.2, random_state=42, stratify=y)"
   ]
  },
  {
   "cell_type": "code",
   "execution_count": null,
   "id": "f0ec944d-b444-4f6f-93c1-47ab6c1517ca",
   "metadata": {},
   "outputs": [],
   "source": [
    "# 1.LightGBM Classifier\n",
    "lgbm_clf = lgb.LGBMClassifier(n_estimators=1500, learning_rate=0.03, max_depth=10, num_leaves=50)\n",
    "lgbm_clf.fit(X_train, y_train)\n",
    "\n",
    "# Predict on test set\n",
    "y_pred = lgbm_clf.predict(X_test)"
   ]
  },
  {
   "cell_type": "code",
   "execution_count": null,
   "id": "fdada76a-060c-4470-933b-d1eb44a83e6f",
   "metadata": {},
   "outputs": [],
   "source": [
    "# Evaluate Model\n",
    "print(\"LGBM Classification Accuracy:\", accuracy_score(y_test, y_pred))\n",
    "print(classification_report(y_test, y_pred))"
   ]
  },
  {
   "cell_type": "code",
   "execution_count": null,
   "id": "c15675df-db43-4dd4-8dc0-8a06aa66453e",
   "metadata": {},
   "outputs": [],
   "source": [
    "#2.optuna to optimize LGBM\n",
    "import optuna\n",
    "\n",
    "def objective(trial):\n",
    "    params = {\n",
    "        \"n_estimators\": trial.suggest_int(\"n_estimators\", 500, 3000),\n",
    "        \"learning_rate\": trial.suggest_float(\"learning_rate\", 0.01, 0.1),\n",
    "        \"max_depth\": trial.suggest_int(\"max_depth\", 3, 15),\n",
    "        \"num_leaves\": trial.suggest_int(\"num_leaves\", 20, 200),\n",
    "        \"min_child_samples\": trial.suggest_int(\"min_child_samples\", 10, 100),\n",
    "        \"feature_fraction\": trial.suggest_float(\"feature_fraction\", 0.6, 1.0),\n",
    "        \"bagging_fraction\": trial.suggest_float(\"bagging_fraction\", 0.6, 1.0),\n",
    "        \"lambda_l1\": trial.suggest_float(\"lambda_l1\", 0.0, 1.0),\n",
    "        \"lambda_l2\": trial.suggest_float(\"lambda_l2\", 0.0, 1.0),\n",
    "    }\n",
    "\n",
    "    # Train LightGBM\n",
    "    model = lgb.LGBMClassifier(**params)\n",
    "    model.fit(X_train, y_train)\n",
    "    \n",
    "    # Predict\n",
    "    y_pred = model.predict(X_test)\n",
    "    \n",
    "    return accuracy_score(y_test, y_pred)\n",
    "\n",
    "# Run Optuna\n",
    "study = optuna.create_study(direction=\"maximize\")\n",
    "study.optimize(objective, n_trials=50)\n",
    "\n",
    "# Best parameters\n",
    "best_params = study.best_params\n",
    "print(\"Best Hyperparameters:\", best_params)\n",
    "\n",
    "# Train final model\n",
    "lgbm_clf = lgb.LGBMClassifier(**best_params)\n",
    "lgbm_clf.fit(X_train, y_train)\n",
    "\n",
    "# Evaluate\n",
    "y_pred = lgbm_clf.predict(X_test)\n",
    "accuracy = accuracy_score(y_test, y_pred)\n",
    "print(\"Optimized Classification Accuracy:\", accuracy)\n"
   ]
  },
  {
   "cell_type": "code",
   "execution_count": null,
   "id": "2bd6b395-2bdd-4133-a71e-9b9071bde679",
   "metadata": {},
   "outputs": [],
   "source": [
    "print(\"Best Hyperparameters:\", best_params)\n",
    "print(\"Optimized Classification Accuracy:\", accuracy)\n",
    "print(classification_report(y_test, y_pred))"
   ]
  },
  {
   "cell_type": "code",
   "execution_count": null,
   "id": "2345e4f0-3d22-4689-860f-edc0101b51ad",
   "metadata": {},
   "outputs": [],
   "source": [
    "#3.Stacking Model Classifier\n",
    "from sklearn.ensemble import StackingClassifier\n",
    "from sklearn.linear_model import LogisticRegression\n",
    "from sklearn.ensemble import RandomForestClassifier\n",
    "import xgboost as xgb\n",
    "import lightgbm as lgb\n",
    "from sklearn.metrics import accuracy_score\n",
    "\n",
    "# Define base classifiers\n",
    "base_classifiers = [\n",
    "    ('lgbm', lgb.LGBMClassifier(n_estimators=1500, learning_rate=0.03, max_depth=10, num_leaves=50)),\n",
    "    ('xgb', xgb.XGBClassifier(n_estimators=1500, learning_rate=0.03, max_depth=10, colsample_bytree=0.8)),\n",
    "    ('rf', RandomForestClassifier(n_estimators=500, max_depth=10, random_state=42))\n",
    "]\n",
    "\n",
    "# Define stacking classifier with Logistic Regression as final model\n",
    "stacking_clf = StackingClassifier(estimators=base_classifiers, final_estimator=LogisticRegression())\n",
    "\n",
    "# Train the ensemble model\n",
    "stacking_clf.fit(X_train, y_train)\n",
    "\n",
    "# Predict & evaluate\n",
    "y_pred_stack = stacking_clf.predict(X_test)\n",
    "accuracy_stack = accuracy_score(y_test, y_pred_stack)\n",
    "print(\"Stacking Model Accuracy:\", accuracy_stack)\n"
   ]
  },
  {
   "cell_type": "code",
   "execution_count": null,
   "id": "a3bc7f0b-3cc9-41ce-bc3c-0515b7bf082f",
   "metadata": {},
   "outputs": [],
   "source": [
    "# Evaluate Model\n",
    "print(\"Stacking Model Accuracy:\", accuracy_stack)\n",
    "print(classification_report(y_test, y_pred_stack))"
   ]
  },
  {
   "cell_type": "code",
   "execution_count": null,
   "id": "3b051514-faa7-472b-b32b-798efa6b4220",
   "metadata": {},
   "outputs": [],
   "source": [
    "#4.XGBoost Classifier\n",
    "import xgboost as xgb\n",
    "from sklearn.metrics import accuracy_score\n",
    "\n",
    "# Train XGBoost Classifier\n",
    "xgb_clf = xgb.XGBClassifier(n_estimators=1500, learning_rate=0.03, max_depth=10, colsample_bytree=0.8)\n",
    "xgb_clf.fit(X_train, y_train)\n",
    "\n",
    "# Predict on test set\n",
    "y_pred_xgb = xgb_clf.predict(X_test)\n",
    "\n",
    "# Evaluate Model\n",
    "accuracy_xgb = accuracy_score(y_test, y_pred_xgb)\n",
    "print(\"XGBoost Classification Accuracy:\", accuracy_xgb)"
   ]
  },
  {
   "cell_type": "code",
   "execution_count": null,
   "id": "25b69b17-c608-4fb3-b9a7-784e0c3305ed",
   "metadata": {},
   "outputs": [],
   "source": [
    "#5.Adjusting threshold Classification\n",
    "from sklearn.metrics import precision_recall_curve\n",
    "\n",
    "# Get predicted probabilities\n",
    "y_probs = xgb_clf.predict_proba(X_test)[:,1]\n",
    "\n",
    "# Find optimal threshold\n",
    "precisions, recalls, thresholds = precision_recall_curve(y_test, y_probs)\n",
    "optimal_idx = (precisions + recalls).argmax()  # Best balance of precision & recall\n",
    "optimal_threshold = thresholds[optimal_idx]\n",
    "print(f\"Optimal Threshold: {optimal_threshold:.2f}\")\n",
    "\n",
    "# Apply new threshold\n",
    "y_pred_adjusted = (y_probs > optimal_threshold).astype(int)\n",
    "accuracy_adjusted = accuracy_score(y_test, y_pred_adjusted)\n",
    "print(\"Adjusted Threshold Accuracy:\", accuracy_adjusted)"
   ]
  },
  {
   "cell_type": "code",
   "execution_count": null,
   "id": "b827a5d0-ff4d-435f-a060-be36a6e9db68",
   "metadata": {},
   "outputs": [],
   "source": [
    "#delivery time\n",
    "from sklearn.ensemble import GradientBoostingRegressor\n",
    "from sklearn.metrics import mean_absolute_error, mean_squared_error\n",
    "import numpy as np\n",
    "\n",
    "# Filter only late deliveries\n",
    "late_deliveries = df[df[\"is_late\"] == 1]\n",
    "\n",
    "# Define regression model\n",
    "X_late = late_deliveries.drop(columns=[\"Delivery_Time\", \"delay_cluster\", \"is_late\"], inplace = False)\n",
    "y_late = late_deliveries[\"Delivery_Time\"]  # Now predicting actual delay duration\n",
    "\n",
    "# Train-test split\n",
    "X_train_late, X_test_late, y_train_late, y_test_late = train_test_split(X_late, y_late, test_size=0.2, random_state=42)\n",
    "\n",
    "# Train Gradient Boosting Regressor\n",
    "gbm_regressor = GradientBoostingRegressor(n_estimators=1500, learning_rate=0.03, max_depth=8)\n",
    "gbm_regressor.fit(X_train_late, y_train_late)\n",
    "\n",
    "# Predict delay duration\n",
    "y_pred_late = gbm_regressor.predict(X_test_late)\n",
    "\n",
    "# Evaluate regression model\n",
    "mae = mean_absolute_error(y_test_late, y_pred_late)\n",
    "rmse = np.sqrt(mean_squared_error(y_test_late, y_pred_late))\n",
    "\n",
    "print(f\"MAE (Late Deliveries): {mae:.2f} min\")\n",
    "print(f\"RMSE (Late Deliveries): {rmse:.2f} min\")\n"
   ]
  },
  {
   "cell_type": "code",
   "execution_count": null,
   "id": "f8f9043f-fcfd-40f0-8560-4582706ac6b7",
   "metadata": {},
   "outputs": [],
   "source": [
    "print(X_train.columns)  # Check column list again"
   ]
  },
  {
   "cell_type": "code",
   "execution_count": null,
   "id": "81e12365-ef89-470c-87d8-291790951602",
   "metadata": {},
   "outputs": [],
   "source": [
    "# Calculate expected delivery time based on key factors (store, vehicle, distance)\n",
    "expected_times = df[df[\"is_late\"] == 0].groupby([\"Store_Latitude\", \"Store_Longitude\", \n",
    "                                                 \"Drop_Latitude\", \"Drop_Longitude\", \n",
    "                                                 \"Vehicle_scooter\", \"Vehicle_van\", \"distance_km\"])[\"Delivery_Time\"].mean().reset_index()\n",
    "\n",
    "# Merge with main dataset\n",
    "df = df.merge(expected_times, on=[\"Store_Latitude\", \"Store_Longitude\", \n",
    "                                  \"Drop_Latitude\", \"Drop_Longitude\", \n",
    "                                  \"Vehicle_scooter\", \"Vehicle_van\", \"distance_km\"], \n",
    "              how=\"left\", suffixes=(\"\", \"_expected\"))\n",
    "\n",
    "# Calculate delay duration\n",
    "df[\"delay_duration\"] = df[\"Delivery_Time\"] - df[\"Delivery_Time_expected\"]\n",
    "\n",
    "# Print to confirm\n",
    "print(df[[\"Delivery_Time\", \"Delivery_Time_expected\", \"delay_duration\"]].head(10))\n"
   ]
  },
  {
   "cell_type": "code",
   "execution_count": null,
   "id": "ea2ed659-3132-4b3f-aba6-f719f3ab43a8",
   "metadata": {},
   "outputs": [],
   "source": [
    "from sklearn.ensemble import RandomForestRegressor\n",
    "\n",
    "# ✅ Step 1: Fill Missing \"delivery_time_expected\"\n",
    "train_data = df[df[\"delivery_time_expected\"].notnull()]\n",
    "test_data = df[df[\"delivery_time_expected\"].isnull()]\n",
    "\n",
    "# Features (exclude target variables)\n",
    "X_train_fill = train_data.drop(columns=[\"delivery_time_expected\", \"delivery_time\", \"delay_duration\"])\n",
    "y_train_fill = train_data[\"delivery_time_expected\"]\n",
    "\n",
    "# Train Random Forest Model for Expected Delivery Time\n",
    "fill_model_expected = RandomForestRegressor(n_estimators=100, random_state=42)\n",
    "fill_model_expected.fit(X_train_fill, y_train_fill)\n",
    "\n",
    "# Predict missing values for delivery_time_expected\n",
    "df.loc[df[\"delivery_time_expected\"].isnull(), \"delivery_time_expected\"] = fill_model_expected.predict(test_data.drop(columns=[\"delivery_time_expected\", \"delivery_time\", \"delay_duration\"]))\n",
    "\n",
    "# ✅ Step 2: Calculate \"delay_duration\" After Filling \"delivery_time_expected\"\n",
    "df[\"delay_duration\"] = df[\"delivery_time\"] - df[\"delivery_time_expected\"]\n",
    "\n",
    "# ✅ Step 3: Fill Missing \"delay_duration\" Using Another Random Forest Model\n",
    "train_data_delay = df[df[\"delay_duration\"].notnull()]\n",
    "test_data_delay = df[df[\"delay_duration\"].isnull()]\n",
    "\n",
    "X_train_delay = train_data_delay.drop(columns=[\"delay_duration\"])\n",
    "y_train_delay = train_data_delay[\"delay_duration\"]\n",
    "\n",
    "# Train Random Forest Model for Delay Duration\n",
    "fill_model_delay = RandomForestRegressor(n_estimators=100, random_state=42)\n",
    "fill_model_delay.fit(X_train_delay, y_train_delay)\n",
    "\n",
    "# Predict missing values for delay_duration\n",
    "df.loc[df[\"delay_duration\"].isnull(), \"delay_duration\"] = fill_model_delay.predict(test_data_delay.drop(columns=[\"delay_duration\"]))\n"
   ]
  },
  {
   "cell_type": "code",
   "execution_count": null,
   "id": "8a0966c6-9a64-4d7c-aac8-10bbcdf91407",
   "metadata": {},
   "outputs": [],
   "source": [
    "print(test_data_delay.shape)  # Check if test_data_delay has any rows\n",
    "print(test_data_delay.isnull().sum())  # Verify missing values"
   ]
  },
  {
   "cell_type": "code",
   "execution_count": null,
   "id": "c1c0cc5b-1e62-4d6c-9ec4-67f04609e4d4",
   "metadata": {},
   "outputs": [],
   "source": [
    "print(df.isnull().sum())  # Count NaN values in each column"
   ]
  },
  {
   "cell_type": "code",
   "execution_count": null,
   "id": "2320d2a0-435b-430f-bcb8-2c08401e4628",
   "metadata": {},
   "outputs": [],
   "source": [
    "from sklearn.metrics import mean_absolute_error, mean_squared_error\n",
    "import numpy as np\n",
    "# Step 1: Filter only late deliveries (is_late = 1)\n",
    "late_deliveries = df[df[\"is_late\"] == 1]\n",
    "\n",
    "# Step 2: Define features (drop non-relevant columns)\n",
    "X_late = late_deliveries.drop(columns=[\"delivery_time\", \"delay_duration\", \"is_late\"])\n",
    "y_late = late_deliveries[\"delay_duration\"]\n",
    "\n",
    "# Step 3: Train-test split\n",
    "X_train_late, X_test_late, y_train_late, y_test_late = train_test_split(X_late, y_late, test_size=0.2, random_state=42)\n",
    "\n",
    "# Step 4: Train LightGBM Model for Delay Duration Prediction\n",
    "delay_model = lgb.LGBMRegressor(\n",
    "    n_estimators=2716, \n",
    "    learning_rate=0.0217, \n",
    "    max_depth=3\n",
    ")\n",
    "delay_model.fit(X_train_late, y_train_late)\n",
    "\n",
    "# Step 5: Predict Delay Duration for Test Set\n",
    "y_pred_late = delay_model.predict(X_test_late)\n",
    "\n",
    "# Step 6: Evaluate Model Performance\n",
    "mae = mean_absolute_error(y_test_late, y_pred_late)\n",
    "rmse = np.sqrt(mean_squared_error(y_test_late, y_pred_late))\n",
    "\n",
    "print(f\"\\nDelay Duration Prediction Model Performance:\")\n",
    "print(f\"MAE (Late Deliveries): {mae:.2f} min\")\n",
    "print(f\"RMSE (Late Deliveries): {rmse:.2f} min\")"
   ]
  },
  {
   "cell_type": "code",
   "execution_count": null,
   "id": "4b7cb269-6384-417c-b1c5-105cdaf9f81d",
   "metadata": {
    "scrolled": true
   },
   "outputs": [],
   "source": [
    "df.rename(columns=lambda x: x.strip().lower(), inplace=True)  # Convert all names to lowercase\n",
    "print(df.columns)  # Check again"
   ]
  },
  {
   "cell_type": "code",
   "execution_count": null,
   "id": "059d588c-d8f4-4309-920c-79c981716c34",
   "metadata": {},
   "outputs": [],
   "source": [
    "print(df.head())  # Check if \"Delivery_Time_Expected\" is actually there"
   ]
  },
  {
   "cell_type": "code",
   "execution_count": null,
   "id": "a26b6e5e-b3fa-4081-88e5-6c79ef2155be",
   "metadata": {},
   "outputs": [],
   "source": [
    "import shap\n",
    "\n",
    "# Select a trained model (e.g., LightGBM for classification)\n",
    "model = lgb.LGBMClassifier(best_params)  # Replace with your trained model\n",
    "\n",
    "# Create a SHAP explainer\n",
    "explainer = shap.TreeExplainer(model)\n",
    "shap_values = explainer.shap_values(X_test)\n",
    "\n",
    "# Summary plot\n",
    "shap.summary_plot(shap_values, X_test, feature_names=X.columns)\n",
    "\n",
    "# Dependence plots for key features\n",
    "shap.dependence_plot(\"distance_km\", shap_values[1], X_test, feature_names=X.columns)\n",
    "shap.dependence_plot(\"traffic_jam\", shap_values[1], X_test, feature_names=X.columns)"
   ]
  }
 ],
 "metadata": {
  "kernelspec": {
   "display_name": "Python 3 (ipykernel)",
   "language": "python",
   "name": "python3"
  },
  "language_info": {
   "codemirror_mode": {
    "name": "ipython",
    "version": 3
   },
   "file_extension": ".py",
   "mimetype": "text/x-python",
   "name": "python",
   "nbconvert_exporter": "python",
   "pygments_lexer": "ipython3",
   "version": "3.13.2"
  }
 },
 "nbformat": 4,
 "nbformat_minor": 5
}
